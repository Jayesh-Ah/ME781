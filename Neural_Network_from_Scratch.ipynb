{
  "nbformat": 4,
  "nbformat_minor": 0,
  "metadata": {
    "colab": {
      "provenance": [],
      "authorship_tag": "ABX9TyPQdpZjYF1wuCdLF4vZ/iJ6",
      "include_colab_link": true
    },
    "kernelspec": {
      "name": "python3",
      "display_name": "Python 3"
    },
    "language_info": {
      "name": "python"
    }
  },
  "cells": [
    {
      "cell_type": "markdown",
      "metadata": {
        "id": "view-in-github",
        "colab_type": "text"
      },
      "source": [
        "<a href=\"https://colab.research.google.com/github/Jayesh-Ah/ME781/blob/main/Neural_Network_from_Scratch.ipynb\" target=\"_parent\"><img src=\"https://colab.research.google.com/assets/colab-badge.svg\" alt=\"Open In Colab\"/></a>"
      ]
    },
    {
      "cell_type": "code",
      "execution_count": 1,
      "metadata": {
        "id": "KpWGO5lifSOp"
      },
      "outputs": [],
      "source": [
        "import numpy as np"
      ]
    },
    {
      "cell_type": "code",
      "source": [
        "inputs = [1, 2, 4, 6]\n",
        "weights = [[0.2, 0.6, 3, -0.5],\n",
        "           [0.2, 0.6, 3, -0.5],\n",
        "           [0.2, 0.6, 3, -0.5]]\n",
        "\n",
        "biases = [0.4, 9, 3]"
      ],
      "metadata": {
        "id": "qdK5IyYyfdqe"
      },
      "execution_count": 2,
      "outputs": []
    },
    {
      "cell_type": "code",
      "source": [
        "output = np.dot(weights, inputs) + biases"
      ],
      "metadata": {
        "id": "55m64Ciifuba"
      },
      "execution_count": 3,
      "outputs": []
    },
    {
      "cell_type": "code",
      "source": [],
      "metadata": {
        "id": "5K6jUyCZf-zX"
      },
      "execution_count": null,
      "outputs": []
    }
  ]
}