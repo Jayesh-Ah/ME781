{
  "nbformat": 4,
  "nbformat_minor": 0,
  "metadata": {
    "colab": {
      "provenance": [],
      "authorship_tag": "ABX9TyOJepvNkqDR9RnhYnR3LCDX",
      "include_colab_link": true
    },
    "kernelspec": {
      "name": "python3",
      "display_name": "Python 3"
    },
    "language_info": {
      "name": "python"
    }
  },
  "cells": [
    {
      "cell_type": "markdown",
      "metadata": {
        "id": "view-in-github",
        "colab_type": "text"
      },
      "source": [
        "<a href=\"https://colab.research.google.com/github/Jayesh-Ah/ME781/blob/main/Neural_Network_from_Scratch.ipynb\" target=\"_parent\"><img src=\"https://colab.research.google.com/assets/colab-badge.svg\" alt=\"Open In Colab\"/></a>"
      ]
    },
    {
      "cell_type": "code",
      "execution_count": 1,
      "metadata": {
        "id": "KpWGO5lifSOp"
      },
      "outputs": [],
      "source": [
        "import numpy as np"
      ]
    },
    {
      "cell_type": "code",
      "source": [
        "inputs = [1, 2, 4, 6]\n",
        "weights = [[0.2, 0.6, 3, -0.5],\n",
        "           [0.2, 0.6, 3, -0.5],\n",
        "           [0.2, 0.6, 3, -0.5]]\n",
        "\n",
        "biases = [0.4, 9, 3]"
      ],
      "metadata": {
        "id": "qdK5IyYyfdqe"
      },
      "execution_count": 2,
      "outputs": []
    },
    {
      "cell_type": "code",
      "source": [
        "output = np.dot(weights, inputs) + biases"
      ],
      "metadata": {
        "id": "55m64Ciifuba"
      },
      "execution_count": 3,
      "outputs": []
    },
    {
      "cell_type": "code",
      "source": [
        "print(output)"
      ],
      "metadata": {
        "colab": {
          "base_uri": "https://localhost:8080/"
        },
        "id": "5K6jUyCZf-zX",
        "outputId": "5d2b1b47-d563-4f4f-d126-c4dbc2f66dec"
      },
      "execution_count": 4,
      "outputs": [
        {
          "output_type": "stream",
          "name": "stdout",
          "text": [
            "[10.8 19.4 13.4]\n"
          ]
        }
      ]
    },
    {
      "cell_type": "code",
      "source": [],
      "metadata": {
        "id": "SKN-q1BCgF7A"
      },
      "execution_count": null,
      "outputs": []
    }
  ]
}